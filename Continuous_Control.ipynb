{
 "cells": [
  {
   "cell_type": "markdown",
   "metadata": {},
   "source": [
    "# Continuous Control\n",
    "\n",
    "---\n",
    "\n",
    "In this notebook, you will learn how to use the Unity ML-Agents environment for the second project of the [Deep Reinforcement Learning Nanodegree](https://www.udacity.com/course/deep-reinforcement-learning-nanodegree--nd893) program.\n",
    "\n",
    "### 1. Start the Environment\n",
    "\n",
    "We begin by importing the necessary packages.  If the code cell below returns an error, please revisit the project instructions to double-check that you have installed [Unity ML-Agents](https://github.com/Unity-Technologies/ml-agents/blob/master/docs/Installation.md) and [NumPy](http://www.numpy.org/)."
   ]
  },
  {
   "cell_type": "code",
   "execution_count": 1,
   "metadata": {
    "ExecuteTime": {
     "end_time": "2019-04-21T07:59:41.771755Z",
     "start_time": "2019-04-21T07:59:41.376550Z"
    }
   },
   "outputs": [],
   "source": [
    "from unityagents import UnityEnvironment\n",
    "import numpy as np"
   ]
  },
  {
   "cell_type": "markdown",
   "metadata": {},
   "source": [
    "Next, we will start the environment!  **_Before running the code cell below_**, change the `file_name` parameter to match the location of the Unity environment that you downloaded.\n",
    "\n",
    "- **Mac**: `\"path/to/Reacher.app\"`\n",
    "- **Windows** (x86): `\"path/to/Reacher_Windows_x86/Reacher.exe\"`\n",
    "- **Windows** (x86_64): `\"path/to/Reacher_Windows_x86_64/Reacher.exe\"`\n",
    "- **Linux** (x86): `\"path/to/Reacher_Linux/Reacher.x86\"`\n",
    "- **Linux** (x86_64): `\"path/to/Reacher_Linux/Reacher.x86_64\"`\n",
    "- **Linux** (x86, headless): `\"path/to/Reacher_Linux_NoVis/Reacher.x86\"`\n",
    "- **Linux** (x86_64, headless): `\"path/to/Reacher_Linux_NoVis/Reacher.x86_64\"`\n",
    "\n",
    "For instance, if you are using a Mac, then you downloaded `Reacher.app`.  If this file is in the same folder as the notebook, then the line below should appear as follows:\n",
    "```\n",
    "env = UnityEnvironment(file_name=\"Reacher.app\")\n",
    "```"
   ]
  },
  {
   "cell_type": "code",
   "execution_count": 2,
   "metadata": {
    "ExecuteTime": {
     "end_time": "2019-04-21T07:59:45.795161Z",
     "start_time": "2019-04-21T07:59:42.696126Z"
    }
   },
   "outputs": [
    {
     "name": "stderr",
     "output_type": "stream",
     "text": [
      "INFO:unityagents:\n",
      "'Academy' started successfully!\n",
      "Unity Academy name: Academy\n",
      "        Number of Brains: 1\n",
      "        Number of External Brains : 1\n",
      "        Lesson number : 0\n",
      "        Reset Parameters :\n",
      "\t\tgoal_speed -> 1.0\n",
      "\t\tgoal_size -> 5.0\n",
      "Unity brain name: ReacherBrain\n",
      "        Number of Visual Observations (per agent): 0\n",
      "        Vector Observation space type: continuous\n",
      "        Vector Observation space size (per agent): 33\n",
      "        Number of stacked Vector Observation: 1\n",
      "        Vector Action space type: continuous\n",
      "        Vector Action space size (per agent): 4\n",
      "        Vector Action descriptions: , , , \n"
     ]
    }
   ],
   "source": [
    "env_file_path = 'Reacher_Environment/one_agent/Reacher_Windows_x86_64/Reacher.exe'\n",
    "# env_file_path = 'Reacher_Environment/twenty_agents/Reacher_Windows_x86_64/Reacher.exe'\n",
    "env = UnityEnvironment(file_name=env_file_path, worker_id=0, seed=0, no_graphics=False)"
   ]
  },
  {
   "cell_type": "markdown",
   "metadata": {},
   "source": [
    "Environments contain **_brains_** which are responsible for deciding the actions of their associated agents. Here we check for the first brain available, and set it as the default brain we will be controlling from Python."
   ]
  },
  {
   "cell_type": "code",
   "execution_count": 3,
   "metadata": {
    "ExecuteTime": {
     "end_time": "2019-04-21T07:59:45.818088Z",
     "start_time": "2019-04-21T07:59:45.798142Z"
    }
   },
   "outputs": [
    {
     "name": "stdout",
     "output_type": "stream",
     "text": [
      "['ReacherBrain']\n"
     ]
    },
    {
     "data": {
      "text/plain": [
       "'ReacherBrain'"
      ]
     },
     "execution_count": 3,
     "metadata": {},
     "output_type": "execute_result"
    }
   ],
   "source": [
    "# get the default brain\n",
    "print(env.brain_names)\n",
    "brain_name = env.brain_names[0]\n",
    "brain = env.brains[brain_name]\n",
    "brain_name"
   ]
  },
  {
   "cell_type": "markdown",
   "metadata": {},
   "source": [
    "### 2. Examine the State and Action Spaces\n",
    "\n",
    "In this environment, a double-jointed arm can move to target locations. A reward of `+0.1` is provided for each step that the agent's hand is in the goal location. Thus, the goal of your agent is to maintain its position at the target location for as many time steps as possible.\n",
    "\n",
    "The observation space consists of `33` variables corresponding to position, rotation, velocity, and angular velocities of the arm.  Each action is a vector with four numbers, corresponding to torque applicable to two joints.  Every entry in the action vector must be a number between `-1` and `1`.\n",
    "\n",
    "Run the code cell below to print some information about the environment."
   ]
  },
  {
   "cell_type": "code",
   "execution_count": 4,
   "metadata": {
    "ExecuteTime": {
     "end_time": "2019-04-21T07:59:46.890079Z",
     "start_time": "2019-04-21T07:59:45.822076Z"
    }
   },
   "outputs": [
    {
     "name": "stdout",
     "output_type": "stream",
     "text": [
      "Number of agents: 1\n",
      "Size of each action: 4\n",
      "There are 1 agents. Each observes a state with length: 33\n",
      "The state for the first agent looks like: [ 0.00000000e+00 -4.00000000e+00  0.00000000e+00  1.00000000e+00\n",
      " -0.00000000e+00 -0.00000000e+00 -4.37113883e-08  0.00000000e+00\n",
      "  0.00000000e+00  0.00000000e+00  0.00000000e+00  0.00000000e+00\n",
      "  0.00000000e+00  0.00000000e+00 -1.00000000e+01  0.00000000e+00\n",
      "  1.00000000e+00 -0.00000000e+00 -0.00000000e+00 -4.37113883e-08\n",
      "  0.00000000e+00  0.00000000e+00  0.00000000e+00  0.00000000e+00\n",
      "  0.00000000e+00  0.00000000e+00  5.75471878e+00 -1.00000000e+00\n",
      "  5.55726671e+00  0.00000000e+00  1.00000000e+00  0.00000000e+00\n",
      " -1.68164849e-01]\n",
      "\n",
      "Shapes:\n",
      "rewards 1\n",
      "vector_observations (1, 33)\n",
      "local_done 1\n"
     ]
    }
   ],
   "source": [
    "# reset the environment\n",
    "env_info = env.reset(train_mode=True)[brain_name]\n",
    "\n",
    "# number of agents\n",
    "num_agents = len(env_info.agents)\n",
    "print('Number of agents:', num_agents)\n",
    "\n",
    "# size of each action\n",
    "action_size = brain.vector_action_space_size\n",
    "print('Size of each action:', action_size)\n",
    "\n",
    "# examine the state space \n",
    "states = env_info.vector_observations\n",
    "state_size = states.shape[1]\n",
    "print('There are {} agents. Each observes a state with length: {}'.format(states.shape[0], state_size))\n",
    "print('The state for the first agent looks like:', states[0])\n",
    "print('\\nShapes:')\n",
    "print(\"rewards\", len(env_info.rewards))\n",
    "print(\"vector_observations\", env_info.vector_observations.shape)\n",
    "print(\"local_done\", len(env_info.local_done))"
   ]
  },
  {
   "cell_type": "code",
   "execution_count": 5,
   "metadata": {
    "ExecuteTime": {
     "end_time": "2019-04-21T07:59:46.900054Z",
     "start_time": "2019-04-21T07:59:46.894068Z"
    }
   },
   "outputs": [
    {
     "name": "stdout",
     "output_type": "stream",
     "text": [
      "4 continuous\n",
      "33 continuous\n"
     ]
    }
   ],
   "source": [
    "print(brain.vector_action_space_size, brain.vector_action_space_type)\n",
    "print(brain.vector_observation_space_size, brain.vector_observation_space_type)"
   ]
  },
  {
   "cell_type": "markdown",
   "metadata": {},
   "source": [
    "### 3. Take Random Actions in the Environment\n",
    "\n",
    "In the next code cell, you will learn how to use the Python API to control the agent and receive feedback from the environment.\n",
    "\n",
    "Once this cell is executed, you will watch the agent's performance, if it selects an action at random with each time step.  A window should pop up that allows you to observe the agent, as it moves through the environment.  \n",
    "\n",
    "Of course, as part of the project, you'll have to change the code so that the agent is able to use its experience to gradually choose better actions when interacting with the environment!"
   ]
  },
  {
   "cell_type": "code",
   "execution_count": 6,
   "metadata": {
    "ExecuteTime": {
     "end_time": "2019-04-21T07:59:49.429259Z",
     "start_time": "2019-04-21T07:59:46.903556Z"
    }
   },
   "outputs": [
    {
     "name": "stdout",
     "output_type": "stream",
     "text": [
      "Total score (averaged over agents) this episode: 0.0\n"
     ]
    }
   ],
   "source": [
    "env_info = env.reset(train_mode=False)[brain_name]     # reset the environment    \n",
    "states = env_info.vector_observations                  # get the current state (for each agent)\n",
    "scores = np.zeros(num_agents)                          # initialize the score (for each agent)\n",
    "# while True:\n",
    "for _ in range(50):\n",
    "    actions = np.random.randn(num_agents, action_size) # select an action (for each agent)\n",
    "    actions = np.clip(actions, -1, 1)                  # all actions between -1 and 1\n",
    "    env_info = env.step(actions)[brain_name]           # send all actions to tne environment\n",
    "    next_states = env_info.vector_observations         # get next state (for each agent)\n",
    "    rewards = env_info.rewards                         # get reward (for each agent)\n",
    "    dones = env_info.local_done                        # see if episode finished\n",
    "    scores += env_info.rewards                         # update the score (for each agent)\n",
    "    states = next_states                               # roll over states to next time step\n",
    "    if np.any(dones):                                  # exit loop if episode finished\n",
    "        break\n",
    "print('Total score (averaged over agents) this episode: {}'.format(np.mean(scores)))"
   ]
  },
  {
   "cell_type": "markdown",
   "metadata": {},
   "source": [
    "When finished, you can close the environment."
   ]
  },
  {
   "cell_type": "code",
   "execution_count": 7,
   "metadata": {
    "ExecuteTime": {
     "end_time": "2019-04-21T07:59:49.434851Z",
     "start_time": "2019-04-21T07:59:49.431286Z"
    }
   },
   "outputs": [],
   "source": [
    "# env.close()"
   ]
  },
  {
   "cell_type": "code",
   "execution_count": 8,
   "metadata": {
    "ExecuteTime": {
     "end_time": "2019-04-21T07:59:49.451744Z",
     "start_time": "2019-04-21T07:59:49.436751Z"
    }
   },
   "outputs": [
    {
     "name": "stdout",
     "output_type": "stream",
     "text": [
      "array([[ 2.05587196, -2.95691419, -1.75735378,  0.93016797,  0.25569877,\n",
      "         0.06979565, -0.25403616,  0.22485964, -0.79854548,  1.36673391,\n",
      "         5.57289076,  3.0581336 ,  0.86991364,  5.2179718 , -6.4728899 ,\n",
      "        -0.90593922,  0.83753115,  0.37779108,  0.11971913,  0.37614223,\n",
      "         1.39888644, -1.17144012,  0.72973895,  7.33476305,  2.65092897,\n",
      "         1.79401541,  6.52134228, -1.        , -4.63379908,  0.        ,\n",
      "         1.        ,  0.        , -0.53301406]])\n",
      "array([[ 0.51272432, -0.67532808, -0.05828105, -0.86629037]])\n",
      "[0.0]\n",
      "[False]\n"
     ]
    }
   ],
   "source": [
    "print(repr(states))\n",
    "print(repr(actions))\n",
    "print(repr(rewards))\n",
    "print(repr(dones))"
   ]
  },
  {
   "cell_type": "markdown",
   "metadata": {},
   "source": [
    "### 4. It's Your Turn!\n",
    "\n",
    "Now it's your turn to train your own agent to solve the environment!  When training the environment, set `train_mode=True`, so that the line for resetting the environment looks like the following:\n",
    "```python\n",
    "env_info = env.reset(train_mode=True)[brain_name]\n",
    "```"
   ]
  },
  {
   "cell_type": "code",
   "execution_count": 9,
   "metadata": {
    "ExecuteTime": {
     "end_time": "2019-04-21T07:59:50.159711Z",
     "start_time": "2019-04-21T07:59:49.456703Z"
    }
   },
   "outputs": [
    {
     "data": {
      "text/plain": [
       "device(type='cuda', index=0)"
      ]
     },
     "execution_count": 9,
     "metadata": {},
     "output_type": "execute_result"
    }
   ],
   "source": [
    "import random\n",
    "from collections import deque\n",
    "\n",
    "import matplotlib.pyplot as plt\n",
    "\n",
    "import torch\n",
    "import torch.nn as nn\n",
    "import torch.nn.functional as F\n",
    "import torch.optim as optim\n",
    "\n",
    "from ddpg_agent import Agent\n",
    "\n",
    "device = torch.device('cuda:0' if torch.cuda.is_available() else 'cpu')\n",
    "device"
   ]
  },
  {
   "cell_type": "code",
   "execution_count": 10,
   "metadata": {
    "ExecuteTime": {
     "end_time": "2019-04-21T07:59:50.171641Z",
     "start_time": "2019-04-21T07:59:50.162666Z"
    }
   },
   "outputs": [],
   "source": [
    "hyperparams = {\n",
    "    # Reproducibility\n",
    "    'seed'                : 0,        # random seed for reproducible results\n",
    "    \n",
    "    # Agent basic parameters\n",
    "    'batch_size'          : 256,      # batch size for each learning step\n",
    "    'buffer_size'         : int(1e6), # up to how many recent experiences to keep\n",
    "    'start_since'         : 256,      # how many experiences to collect before starting learning\n",
    "    'gamma'               : 0.99,     # discount factor\n",
    "    'update_every'        : 20,       # update step frequency\n",
    "    'n_updates'           : 10,       # number of updates per update step\n",
    "    'tau'                 : 1e-3,     # soft-update parameter [0, 1]\n",
    "    \n",
    "    'actor_lr'            : 1e-4,     # learning rate for the actor network\n",
    "    'critic_lr'           : 1e-4,     # learning rate for the critic network\n",
    "    'clip'                : 1,        # gradient clipping to prevent gradient spikes\n",
    "    'weight_decay'        : 0,        # weight decay for the *critic* network\n",
    "    \n",
    "    'dueling'             : False,    # whether to use a dueling architecture\n",
    "    'distributional'      : True,     # whether to use distributional learning\n",
    "\n",
    "    # Prioritized Experience Replay Parameters\n",
    "    'priority_eps'        : 1e-3,     # base priority in order to ensure nonzero priorities\n",
    "    'a'                   : 1.,       # priority exponent parameter [0, 1]\n",
    "\n",
    "    # n-step Bootstrap Target parameter\n",
    "    'n_multisteps'        : 5,        # number of steps to bootstrap\n",
    "    'separate_experiences': False,    # whether to store experiences with no overlap\n",
    "\n",
    "    # Distributional Learning parameters\n",
    "    'v_min'               : 0,        # minimum value for support\n",
    "    'v_max'               : 10,       # maximum value for support\n",
    "    'n_atoms'             : 51,       # number of atoms for distribution\n",
    "\n",
    "    # Noisy Layer parameters\n",
    "    'initial_sigma'       : 0.050,    # initial noisy parameter value\n",
    "    'linear_type'         : 'noisy',  # either 'linear' or 'noisy'\n",
    "    'factorized'          : False     # whether to use factorized gaussian noise or not(independent gaussian noise)\n",
    "}\n",
    "\n",
    "### -------------------------------------------------------------------------------------------------------------- ###\n",
    "\n",
    "train_params = {\n",
    "    'n_episodes'           : 2000,  # number of total episodes to train\n",
    "    'continue_after_solved': False, # whether to keep training even after the environment is solved\n",
    "    \n",
    "    # Exploration using gaussian noise\n",
    "    'eps_start'            : 0.0,   # initial epsilon value\n",
    "    'eps_min'              : 0.00,  # minimum value for epsilon\n",
    "    'eps_decay'            : 0.000, # epsilon decay rate\n",
    "\n",
    "    # Importance-Sampling Weight parameter for Prioritized Experience Replay\n",
    "    'beta_start'           : 1.,   # starting value \n",
    "    'beta_end'             : 1.    # end value\n",
    "}"
   ]
  },
  {
   "cell_type": "code",
   "execution_count": 11,
   "metadata": {
    "ExecuteTime": {
     "end_time": "2019-04-21T07:59:52.801784Z",
     "start_time": "2019-04-21T07:59:50.174634Z"
    }
   },
   "outputs": [
    {
     "name": "stdout",
     "output_type": "stream",
     "text": [
      "Actor(\n",
      "  (fc0): NoisyLinear(in_features=33, out_features=256, bias=True, initial_sigma=0.05, factorized=False)\n",
      "  (fc1): NoisyLinear(in_features=256, out_features=128, bias=True, initial_sigma=0.05, factorized=False)\n",
      "  (fc2): NoisyLinear(in_features=128, out_features=4, bias=True, initial_sigma=0.05, factorized=False)\n",
      "  (hidden_activation): LeakyReLU(negative_slope=0.01)\n",
      "  (output_activation): Tanh()\n",
      ")\n",
      "\n",
      "Critic(\n",
      "  (fcs0): Linear(in_features=33, out_features=256, bias=True)\n",
      "  (fc1): Linear(in_features=260, out_features=128, bias=True)\n",
      "  (fc2): Linear(in_features=128, out_features=128, bias=True)\n",
      "  (fc3): Linear(in_features=128, out_features=51, bias=True)\n",
      "  (hidden_activation): LeakyReLU(negative_slope=0.01)\n",
      ")\n"
     ]
    }
   ],
   "source": [
    "agent = Agent(state_size, action_size, num_agents, **hyperparams)\n",
    "\n",
    "print(agent.actor_local)\n",
    "print()\n",
    "print(agent.critic_local)"
   ]
  },
  {
   "cell_type": "code",
   "execution_count": 12,
   "metadata": {
    "ExecuteTime": {
     "end_time": "2019-04-22T01:52:27.923668Z",
     "start_time": "2019-04-21T07:59:53.941264Z"
    },
    "code_folding": [],
    "scrolled": true
   },
   "outputs": [
    {
     "name": "stdout",
     "output_type": "stream",
     "text": [
      "Episode 10 | Total Steps: 10010 | Current Average Score:  0.590 | Last 100 Average Score:  0.940 | Epsilon: 0.0000 | A: 1.0000 | Beta: 1.0000 | Avg Actor Noise Magnitude: 0.0480 +- 0.0057            \n",
      "Episode 20 | Total Steps: 20020 | Current Average Score:  0.040 | Last 100 Average Score:  0.895 | Epsilon: 0.0000 | A: 1.0000 | Beta: 1.0000 | Avg Actor Noise Magnitude: 0.0423 +- 0.0098            \n",
      "Episode 30 | Total Steps: 30030 | Current Average Score:  2.220 | Last 100 Average Score:  1.306 | Epsilon: 0.0000 | A: 1.0000 | Beta: 1.0000 | Avg Actor Noise Magnitude: 0.0375 +- 0.0119            \n",
      "Episode 40 | Total Steps: 40040 | Current Average Score:  1.090 | Last 100 Average Score:  1.423 | Epsilon: 0.0000 | A: 1.0000 | Beta: 1.0000 | Avg Actor Noise Magnitude: 0.0329 +- 0.0134            \n",
      "Episode 50 | Total Steps: 50050 | Current Average Score:  1.190 | Last 100 Average Score:  1.524 | Epsilon: 0.0000 | A: 1.0000 | Beta: 1.0000 | Avg Actor Noise Magnitude: 0.0288 +- 0.0142            \n",
      "Episode 60 | Total Steps: 60060 | Current Average Score:  4.620 | Last 100 Average Score:  1.663 | Epsilon: 0.0000 | A: 1.0000 | Beta: 1.0000 | Avg Actor Noise Magnitude: 0.0251 +- 0.0145            \n",
      "Episode 70 | Total Steps: 70070 | Current Average Score:  2.120 | Last 100 Average Score:  1.877 | Epsilon: 0.0000 | A: 1.0000 | Beta: 1.0000 | Avg Actor Noise Magnitude: 0.0218 +- 0.0144            \n",
      "Episode 80 | Total Steps: 80080 | Current Average Score:  4.860 | Last 100 Average Score:  1.979 | Epsilon: 0.0000 | A: 1.0000 | Beta: 1.0000 | Avg Actor Noise Magnitude: 0.0192 +- 0.0142            \n",
      "Episode 90 | Total Steps: 90090 | Current Average Score:  5.080 | Last 100 Average Score:  2.282 | Epsilon: 0.0000 | A: 1.0000 | Beta: 1.0000 | Avg Actor Noise Magnitude: 0.0172 +- 0.0138            \n",
      "Episode 100 | Total Steps: 100100 | Current Average Score:  6.250 | Last 100 Average Score:  2.511 | Epsilon: 0.0000 | A: 1.0000 | Beta: 1.0000 | Avg Actor Noise Magnitude: 0.0155 +- 0.0132            \n",
      "Episode 110 | Total Steps: 110110 | Current Average Score:  5.060 | Last 100 Average Score:  2.930 | Epsilon: 0.0000 | A: 1.0000 | Beta: 1.0000 | Avg Actor Noise Magnitude: 0.0140 +- 0.0127            \n",
      "Episode 120 | Total Steps: 120120 | Current Average Score:  6.420 | Last 100 Average Score:  3.559 | Epsilon: 0.0000 | A: 1.0000 | Beta: 1.0000 | Avg Actor Noise Magnitude: 0.0129 +- 0.0121            \n",
      "Episode 130 | Total Steps: 130130 | Current Average Score: 10.490 | Last 100 Average Score:  4.011 | Epsilon: 0.0000 | A: 1.0000 | Beta: 1.0000 | Avg Actor Noise Magnitude: 0.0118 +- 0.0115            \n",
      "Episode 140 | Total Steps: 140140 | Current Average Score:  7.220 | Last 100 Average Score:  4.663 | Epsilon: 0.0000 | A: 1.0000 | Beta: 1.0000 | Avg Actor Noise Magnitude: 0.0109 +- 0.0109            \n",
      "Episode 150 | Total Steps: 150150 | Current Average Score: 12.150 | Last 100 Average Score:  5.369 | Epsilon: 0.0000 | A: 1.0000 | Beta: 1.0000 | Avg Actor Noise Magnitude: 0.0102 +- 0.0104            \n",
      "Episode 160 | Total Steps: 160160 | Current Average Score: 13.740 | Last 100 Average Score:  6.037 | Epsilon: 0.0000 | A: 1.0000 | Beta: 1.0000 | Avg Actor Noise Magnitude: 0.0096 +- 0.0100            \n",
      "Episode 170 | Total Steps: 170170 | Current Average Score: 10.460 | Last 100 Average Score:  6.662 | Epsilon: 0.0000 | A: 1.0000 | Beta: 1.0000 | Avg Actor Noise Magnitude: 0.0091 +- 0.0096            \n",
      "Episode 180 | Total Steps: 180180 | Current Average Score:  9.570 | Last 100 Average Score:  7.373 | Epsilon: 0.0000 | A: 1.0000 | Beta: 1.0000 | Avg Actor Noise Magnitude: 0.0087 +- 0.0092            \n",
      "Episode 190 | Total Steps: 190190 | Current Average Score:  9.550 | Last 100 Average Score:  7.985 | Epsilon: 0.0000 | A: 1.0000 | Beta: 1.0000 | Avg Actor Noise Magnitude: 0.0083 +- 0.0089            \n",
      "Episode 200 | Total Steps: 200200 | Current Average Score:  8.240 | Last 100 Average Score:  8.793 | Epsilon: 0.0000 | A: 1.0000 | Beta: 1.0000 | Avg Actor Noise Magnitude: 0.0081 +- 0.0087            \n",
      "Episode 210 | Total Steps: 210210 | Current Average Score: 12.650 | Last 100 Average Score:  9.620 | Epsilon: 0.0000 | A: 1.0000 | Beta: 1.0000 | Avg Actor Noise Magnitude: 0.0079 +- 0.0085            \n",
      "Episode 220 | Total Steps: 220220 | Current Average Score:  9.330 | Last 100 Average Score: 10.215 | Epsilon: 0.0000 | A: 1.0000 | Beta: 1.0000 | Avg Actor Noise Magnitude: 0.0076 +- 0.0083            \n",
      "Episode 230 | Total Steps: 230230 | Current Average Score: 17.470 | Last 100 Average Score: 10.871 | Epsilon: 0.0000 | A: 1.0000 | Beta: 1.0000 | Avg Actor Noise Magnitude: 0.0074 +- 0.0082            \n",
      "Episode 240 | Total Steps: 240240 | Current Average Score: 10.630 | Last 100 Average Score: 11.356 | Epsilon: 0.0000 | A: 1.0000 | Beta: 1.0000 | Avg Actor Noise Magnitude: 0.0072 +- 0.0080            \n",
      "Episode 250 | Total Steps: 250250 | Current Average Score: 20.280 | Last 100 Average Score: 11.768 | Epsilon: 0.0000 | A: 1.0000 | Beta: 1.0000 | Avg Actor Noise Magnitude: 0.0071 +- 0.0079            \n",
      "Episode 260 | Total Steps: 260260 | Current Average Score: 18.040 | Last 100 Average Score: 12.187 | Epsilon: 0.0000 | A: 1.0000 | Beta: 1.0000 | Avg Actor Noise Magnitude: 0.0070 +- 0.0078            \n",
      "Episode 270 | Total Steps: 270270 | Current Average Score: 13.560 | Last 100 Average Score: 12.824 | Epsilon: 0.0000 | A: 1.0000 | Beta: 1.0000 | Avg Actor Noise Magnitude: 0.0070 +- 0.0077            \n",
      "Episode 280 | Total Steps: 280280 | Current Average Score: 15.270 | Last 100 Average Score: 13.611 | Epsilon: 0.0000 | A: 1.0000 | Beta: 1.0000 | Avg Actor Noise Magnitude: 0.0069 +- 0.0077            \n",
      "Episode 290 | Total Steps: 290290 | Current Average Score: 22.050 | Last 100 Average Score: 14.099 | Epsilon: 0.0000 | A: 1.0000 | Beta: 1.0000 | Avg Actor Noise Magnitude: 0.0068 +- 0.0076            \n",
      "Episode 300 | Total Steps: 300300 | Current Average Score: 10.300 | Last 100 Average Score: 14.521 | Epsilon: 0.0000 | A: 1.0000 | Beta: 1.0000 | Avg Actor Noise Magnitude: 0.0067 +- 0.0075            \n",
      "Episode 310 | Total Steps: 310310 | Current Average Score: 21.050 | Last 100 Average Score: 15.060 | Epsilon: 0.0000 | A: 1.0000 | Beta: 1.0000 | Avg Actor Noise Magnitude: 0.0066 +- 0.0074            \n",
      "Episode 320 | Total Steps: 320320 | Current Average Score: 22.690 | Last 100 Average Score: 15.343 | Epsilon: 0.0000 | A: 1.0000 | Beta: 1.0000 | Avg Actor Noise Magnitude: 0.0065 +- 0.0074            \n",
      "Episode 330 | Total Steps: 330330 | Current Average Score: 18.180 | Last 100 Average Score: 15.959 | Epsilon: 0.0000 | A: 1.0000 | Beta: 1.0000 | Avg Actor Noise Magnitude: 0.0065 +- 0.0074            \n",
      "Episode 340 | Total Steps: 340340 | Current Average Score: 16.910 | Last 100 Average Score: 16.280 | Epsilon: 0.0000 | A: 1.0000 | Beta: 1.0000 | Avg Actor Noise Magnitude: 0.0064 +- 0.0073            \n",
      "Episode 350 | Total Steps: 350350 | Current Average Score: 16.030 | Last 100 Average Score: 16.928 | Epsilon: 0.0000 | A: 1.0000 | Beta: 1.0000 | Avg Actor Noise Magnitude: 0.0064 +- 0.0073            \n",
      "Episode 360 | Total Steps: 360360 | Current Average Score: 16.860 | Last 100 Average Score: 17.486 | Epsilon: 0.0000 | A: 1.0000 | Beta: 1.0000 | Avg Actor Noise Magnitude: 0.0063 +- 0.0073            \n",
      "Episode 370 | Total Steps: 370370 | Current Average Score: 19.080 | Last 100 Average Score: 17.962 | Epsilon: 0.0000 | A: 1.0000 | Beta: 1.0000 | Avg Actor Noise Magnitude: 0.0063 +- 0.0072            \n",
      "Episode 380 | Total Steps: 380380 | Current Average Score: 27.040 | Last 100 Average Score: 18.451 | Epsilon: 0.0000 | A: 1.0000 | Beta: 1.0000 | Avg Actor Noise Magnitude: 0.0062 +- 0.0071            \n",
      "Episode 390 | Total Steps: 390390 | Current Average Score: 17.740 | Last 100 Average Score: 18.722 | Epsilon: 0.0000 | A: 1.0000 | Beta: 1.0000 | Avg Actor Noise Magnitude: 0.0061 +- 0.0071            \n",
      "Episode 400 | Total Steps: 400400 | Current Average Score: 21.980 | Last 100 Average Score: 18.916 | Epsilon: 0.0000 | A: 1.0000 | Beta: 1.0000 | Avg Actor Noise Magnitude: 0.0061 +- 0.0070            \n",
      "Episode 410 | Total Steps: 410410 | Current Average Score: 25.160 | Last 100 Average Score: 19.209 | Epsilon: 0.0000 | A: 1.0000 | Beta: 1.0000 | Avg Actor Noise Magnitude: 0.0060 +- 0.0070            \n",
      "Episode 420 | Total Steps: 420420 | Current Average Score: 13.520 | Last 100 Average Score: 19.899 | Epsilon: 0.0000 | A: 1.0000 | Beta: 1.0000 | Avg Actor Noise Magnitude: 0.0060 +- 0.0070            \n",
      "Episode 430 | Total Steps: 430430 | Current Average Score: 22.070 | Last 100 Average Score: 20.100 | Epsilon: 0.0000 | A: 1.0000 | Beta: 1.0000 | Avg Actor Noise Magnitude: 0.0060 +- 0.0069            \n",
      "Episode 440 | Total Steps: 440440 | Current Average Score: 25.120 | Last 100 Average Score: 20.874 | Epsilon: 0.0000 | A: 1.0000 | Beta: 1.0000 | Avg Actor Noise Magnitude: 0.0059 +- 0.0069            \n",
      "Episode 450 | Total Steps: 450450 | Current Average Score: 29.040 | Last 100 Average Score: 21.349 | Epsilon: 0.0000 | A: 1.0000 | Beta: 1.0000 | Avg Actor Noise Magnitude: 0.0059 +- 0.0069            \n",
      "Episode 460 | Total Steps: 460460 | Current Average Score: 27.270 | Last 100 Average Score: 22.267 | Epsilon: 0.0000 | A: 1.0000 | Beta: 1.0000 | Avg Actor Noise Magnitude: 0.0059 +- 0.0069            \n",
      "Episode 470 | Total Steps: 470470 | Current Average Score: 25.520 | Last 100 Average Score: 22.786 | Epsilon: 0.0000 | A: 1.0000 | Beta: 1.0000 | Avg Actor Noise Magnitude: 0.0058 +- 0.0069            \n",
      "Episode 480 | Total Steps: 480480 | Current Average Score: 36.800 | Last 100 Average Score: 23.144 | Epsilon: 0.0000 | A: 1.0000 | Beta: 1.0000 | Avg Actor Noise Magnitude: 0.0058 +- 0.0069            \n",
      "Episode 490 | Total Steps: 490490 | Current Average Score: 31.870 | Last 100 Average Score: 24.008 | Epsilon: 0.0000 | A: 1.0000 | Beta: 1.0000 | Avg Actor Noise Magnitude: 0.0058 +- 0.0069            \n",
      "Episode 500 | Total Steps: 500500 | Current Average Score: 24.300 | Last 100 Average Score: 24.806 | Epsilon: 0.0000 | A: 1.0000 | Beta: 1.0000 | Avg Actor Noise Magnitude: 0.0057 +- 0.0068            \n",
      "Episode 510 | Total Steps: 510510 | Current Average Score: 31.100 | Last 100 Average Score: 25.356 | Epsilon: 0.0000 | A: 1.0000 | Beta: 1.0000 | Avg Actor Noise Magnitude: 0.0057 +- 0.0068            \n",
      "Episode 520 | Total Steps: 520520 | Current Average Score: 33.460 | Last 100 Average Score: 25.839 | Epsilon: 0.0000 | A: 1.0000 | Beta: 1.0000 | Avg Actor Noise Magnitude: 0.0057 +- 0.0068            \n",
      "Episode 530 | Total Steps: 530530 | Current Average Score: 39.410 | Last 100 Average Score: 26.586 | Epsilon: 0.0000 | A: 1.0000 | Beta: 1.0000 | Avg Actor Noise Magnitude: 0.0057 +- 0.0068            \n",
      "Episode 540 | Total Steps: 540540 | Current Average Score: 33.220 | Last 100 Average Score: 27.053 | Epsilon: 0.0000 | A: 1.0000 | Beta: 1.0000 | Avg Actor Noise Magnitude: 0.0057 +- 0.0068            \n",
      "Episode 550 | Total Steps: 550550 | Current Average Score: 25.820 | Last 100 Average Score: 27.402 | Epsilon: 0.0000 | A: 1.0000 | Beta: 1.0000 | Avg Actor Noise Magnitude: 0.0056 +- 0.0068            \n",
      "Episode 560 | Total Steps: 560560 | Current Average Score: 33.160 | Last 100 Average Score: 27.672 | Epsilon: 0.0000 | A: 1.0000 | Beta: 1.0000 | Avg Actor Noise Magnitude: 0.0056 +- 0.0068            \n",
      "Episode 570 | Total Steps: 570570 | Current Average Score: 24.460 | Last 100 Average Score: 28.048 | Epsilon: 0.0000 | A: 1.0000 | Beta: 1.0000 | Avg Actor Noise Magnitude: 0.0056 +- 0.0068            \n",
      "Episode 580 | Total Steps: 580580 | Current Average Score: 26.820 | Last 100 Average Score: 28.585 | Epsilon: 0.0000 | A: 1.0000 | Beta: 1.0000 | Avg Actor Noise Magnitude: 0.0056 +- 0.0068            \n",
      "Episode 590 | Total Steps: 590590 | Current Average Score: 22.160 | Last 100 Average Score: 28.827 | Epsilon: 0.0000 | A: 1.0000 | Beta: 1.0000 | Avg Actor Noise Magnitude: 0.0056 +- 0.0068            \n",
      "Episode 600 | Total Steps: 600600 | Current Average Score: 22.590 | Last 100 Average Score: 28.985 | Epsilon: 0.0000 | A: 1.0000 | Beta: 1.0000 | Avg Actor Noise Magnitude: 0.0056 +- 0.0068            \n",
      "Episode 610 | Total Steps: 610610 | Current Average Score: 31.330 | Last 100 Average Score: 29.443 | Epsilon: 0.0000 | A: 1.0000 | Beta: 1.0000 | Avg Actor Noise Magnitude: 0.0056 +- 0.0068            \n",
      "Episode 620 | Total Steps: 620620 | Current Average Score: 35.550 | Last 100 Average Score: 29.922 | Epsilon: 0.0000 | A: 1.0000 | Beta: 1.0000 | Avg Actor Noise Magnitude: 0.0056 +- 0.0068            \n",
      "Episode 621 | Total Steps: 621621 | Current Average Score: 35.500 | Last 100 Average Score: 30.050 | Epsilon: 0.0000 | A: 1.0000 | Beta: 1.0000 | Avg Actor Noise Magnitude: 0.0056 +- 0.0068            \n",
      "Environment solved in 521 episodes!\tAverage Score: 30.050\n"
     ]
    },
    {
     "data": {
      "image/png": "[encoded data removed]",
      "text/plain": [
       "<Figure size 432x288 with 1 Axes>"
      ]
     },
     "metadata": {
      "needs_background": "light"
     },
     "output_type": "display_data"
    }
   ],
   "source": [
    "# env = UnityEnvironment(file_name=env_file_path, worker_id=0, seed=101, no_graphics=False)\n",
    "\n",
    "def ddpg(n_episodes, eps_start=0.3, eps_min=0.01, eps_decay=0.99, beta_start=0.4, beta_end=1., continue_after_solved=True):\n",
    "    \"\"\"highly modified Deep Deterministic Policy Gradient\n",
    "    (DDPG + Prioritized Experience Replay + Dueling Architecture + Distribution + Noisy Layers)\n",
    "    (I'm not sure if there's any official name or similar methods)\n",
    "    \n",
    "    Params\n",
    "    ======\n",
    "        n_episodes (int): maximum number of training episodes\n",
    "        eps_start (float): initial epsilon value for gaussian noise\n",
    "        eps_min (float): minimum value for epsilon\n",
    "        eps_decay (float): epsilon decay factor\n",
    "        beta_start (float): initial importance-sampling weight for prioritized experience replay\n",
    "        beta_end (float): final importance-sampling weight for prioritized experience replay\n",
    "        continue_after_solved (bool): whether to continue training after reaching the average score 30\n",
    "    \"\"\"\n",
    "    solved = False\n",
    "    mean_scores = []\n",
    "    mean_scores_window = deque(maxlen=100)\n",
    "    \n",
    "    eps = eps_start\n",
    "\n",
    "    agent.beta = beta_start\n",
    "\n",
    "    actor_noisy_params  = [param for name, param in agent.actor_local.named_parameters()\n",
    "                           if name.endswith('noisy_weight') or name.endswith('noisy_bias')]\n",
    "    critic_noisy_params = [param for name, param in agent.critic_local.named_parameters()\n",
    "                           if name.endswith('noisy_weight') or name.endswith('noisy_bias')]\n",
    "    \n",
    "    report_str_basic_format = \"\\rEpisode {:d} | Total Steps (all agents): {:d}\"\\\n",
    "        \" | Current Average Score: {:>6.3f} | Last 100 Average Score: {:>6.3f}\"\\\n",
    "        \" | Epsilon: {:>6.4f} | A: {:>6.4f} | Beta: {:>6.4f}\"\n",
    "    report_str = report_str_basic_format.format(0, 0, 0, 0, eps, agent.a, agent.beta)\n",
    "    \n",
    "    n_steps_taken = 0\n",
    "    try:\n",
    "        for i_episode in range(1, n_episodes+1):\n",
    "            env_info = env.reset(train_mode=True)[brain_name]            # reset the environment\n",
    "            states = env_info.vector_observations                        # get the current state (for each agent)\n",
    "            scores = np.zeros(num_agents)                                # initialize the score (for each agent)\n",
    "            t = 0\n",
    "            while True:\n",
    "                actions = agent.act(states)                              # choose actions\n",
    "                actions = np.clip(actions + eps * np.random.randn(*actions.shape), -1, 1) # add noise\n",
    "                env_info = env.step(actions)[brain_name]                 # send all actions to the environment\n",
    "                next_states = env_info.vector_observations               # get next state (for each agent)\n",
    "                rewards = env_info.rewards                               # get reward (for each agent)\n",
    "                dones = env_info.local_done                              # see if episode finished\n",
    "                agent.step(states, actions, rewards, next_states, dones) # take a step\n",
    "                t += 1\n",
    "                n_steps_taken += num_agents\n",
    "                scores += env_info.rewards                               # update the score (for each agent)\n",
    "                states = next_states                                     # roll over states to next time step\n",
    "                print(report_str + \" *** timestep {:d} ***\".format(t), end='')\n",
    "                if np.any(dones):                                        # exit loop if episode finished\n",
    "                    break\n",
    "\n",
    "            agent.reset()                                                # reset the secondary buffer for multisteps\n",
    "\n",
    "            mean_score = np.mean(scores)                                 # get the average score across all agents\n",
    "            mean_scores.append(mean_score)                               # append the average score to scores log\n",
    "            mean_scores_window.append(mean_score)                        # append the average score to scores window\n",
    "\n",
    "            mean_scores_window_average = np.mean(mean_scores_window)\n",
    "\n",
    "            report_str = report_str_basic_format.format(i_episode, n_steps_taken,\n",
    "                                                        mean_score, mean_scores_window_average,\n",
    "                                                        eps, agent.a, agent.beta)\n",
    "            if actor_noisy_params:\n",
    "                flattened_abs_noise = np.concatenate([param.data.abs().cpu().numpy().reshape((-1,))\n",
    "                                                      for param in actor_noisy_params])\n",
    "                report_str += \" | Avg Actor Noise Magnitude: {:>6.4f} +- {:<6.4f}\"\\\n",
    "                              .format(np.mean(flattened_abs_noise), np.std(flattened_abs_noise))\n",
    "            if critic_noisy_params:\n",
    "                flattened_abs_noise = np.concatenate([param.data.abs().cpu().numpy().reshape((-1,))\n",
    "                                                      for param in critic_noisy_params])\n",
    "                report_str += \" | Avg Critic Noise Magnitude: {:>6.4f} +- {:<6.4f}\"\\\n",
    "                              .format(np.mean(flattened_abs_noise), np.std(flattened_abs_noise))\n",
    "\n",
    "            report_str += \n",
    "\n",
    "            if i_episode % 10 == 0:\n",
    "                print(report_str, end='\\n')\n",
    "            else:\n",
    "                print(report_str + \"                                     \", end='')\n",
    "\n",
    "            if not solved and mean_scores_window_average >= 30:\n",
    "                print('\\nEnvironment solved in {:d} episodes!\\tAverage Score: {:.3f}'\\\n",
    "                      .format(i_episode-100, mean_scores_window_average))\n",
    "                solved = True\n",
    "                if not continue_after_solved:\n",
    "                    break\n",
    "\n",
    "            eps = max(eps_min, eps * eps_decay)\n",
    "            agent.beta = beta_start + (beta_end - beta_start) * (i_episode / n_episodes)\n",
    "    \n",
    "    except KeyboardInterrupt:\n",
    "        return mean_scores\n",
    "\n",
    "    return mean_scores\n",
    "\n",
    "\n",
    "\n",
    "scores = ddpg(**train_params)\n",
    "\n",
    "# env.close()\n",
    "\n",
    "# plot the scores\n",
    "fig = plt.figure()\n",
    "ax = fig.add_subplot(111)\n",
    "plt.plot(np.arange(len(scores)), scores)\n",
    "plt.ylabel('Average Score')\n",
    "plt.xlabel('Episode #')\n",
    "plt.show();"
   ]
  },
  {
   "cell_type": "code",
   "execution_count": null,
   "metadata": {},
   "outputs": [],
   "source": [
    "agent.noise(True)\n",
    "score_avgs = []\n",
    "report_str_format = \"\\rEpisode {} | Current Episode Average Score: {:.3f} | Previous Episode Average Score: {:.3f} | Overall Average Score: {:.3f}\"\n",
    "for i in range(10):\n",
    "    env_info = env.reset(train_mode=True)[brain_name]      # reset the environment    \n",
    "    states = env_info.vector_observations                  # get the current state (for each agent)\n",
    "    scores = np.zeros(num_agents)                          # initialize the score (for each agent)\n",
    "    while True:\n",
    "        actions = agent.act(states)                        # select an action (for each agent)\n",
    "        env_info = env.step(actions)[brain_name]           # send all actions to tne environment\n",
    "        next_states = env_info.vector_observations         # get next state (for each agent)\n",
    "        rewards = env_info.rewards                         # get reward (for each agent)\n",
    "        dones = env_info.local_done                        # see if episode finished\n",
    "        scores += env_info.rewards                         # update the score (for each agent)\n",
    "        states = next_states                               # roll over states to next time step\n",
    "        print(report_str_format.format(i+1, np.mean(scores), score_avgs[-1] if score_avgs else 0, np.mean(score_avgs) if score_avgs else 0), end='')\n",
    "        if np.any(dones):                                  # exit loop if episode finished\n",
    "            break\n",
    "    if (i+1) % 10 == 0:\n",
    "        print()\n",
    "    score_avgs.append(np.mean(scores))\n",
    "print(\"\\nFinal Average Score: {}\".format(np.mean(score_avgs)))"
   ]
  },
  {
   "cell_type": "code",
   "execution_count": null,
   "metadata": {},
   "outputs": [],
   "source": [
    "agent.noise(False)\n",
    "score_avgs = []\n",
    "report_str_format = \"\\rEpisode {} | Current Episode Average Score: {:.3f} | Previous Episode Average Score: {:.3f} | Overall Average Score: {:.3f}\"\n",
    "for i in range(10):\n",
    "    env_info = env.reset(train_mode=True)[brain_name]      # reset the environment    \n",
    "    states = env_info.vector_observations                  # get the current state (for each agent)\n",
    "    scores = np.zeros(num_agents)                          # initialize the score (for each agent)\n",
    "    while True:\n",
    "        actions = agent.act(states)                        # select an action (for each agent)\n",
    "        env_info = env.step(actions)[brain_name]           # send all actions to tne environment\n",
    "        next_states = env_info.vector_observations         # get next state (for each agent)\n",
    "        rewards = env_info.rewards                         # get reward (for each agent)\n",
    "        dones = env_info.local_done                        # see if episode finished\n",
    "        scores += env_info.rewards                         # update the score (for each agent)\n",
    "        states = next_states                               # roll over states to next time step\n",
    "        print(report_str_format.format(i+1, np.mean(scores), score_avgs[-1] if score_avgs else 0, np.mean(score_avgs) if score_avgs else 0), end='')\n",
    "        if np.any(dones):                                  # exit loop if episode finished\n",
    "            break\n",
    "    if (i+1) % 10 == 0:\n",
    "        print()\n",
    "    score_avgs.append(np.mean(scores))\n",
    "print(\"\\nFinal Average Score: {}\".format(np.mean(score_avgs)))"
   ]
  },
  {
   "cell_type": "code",
   "execution_count": 13,
   "metadata": {
    "ExecuteTime": {
     "end_time": "2019-04-20T08:50:41.714448Z",
     "start_time": "2019-04-20T08:50:41.593637Z"
    }
   },
   "outputs": [
    {
     "data": {
      "image/png": "[encoded data removed]",
      "text/plain": [
       "<Figure size 1080x216 with 1 Axes>"
      ]
     },
     "metadata": {},
     "output_type": "display_data"
    }
   ],
   "source": [
    "fig = plt.figure(facecolor='w', figsize=(15, 3))\n",
    "ax = fig.add_subplot(111)\n",
    "ax.imshow(actions.T, cmap='viridis', vmin=-1, vmax=1)\n",
    "ax.set_xticks([], [])\n",
    "ax.set_yticks([], [])\n",
    "ax.set_title('Last Action Values')\n",
    "ax.set_xlabel('Agents')\n",
    "ax.set_ylabel('Actions')\n",
    "for i in range(actions.shape[1]):\n",
    "    for j in range(actions.shape[0]):\n",
    "        text = ax.text(j, i, round(actions[j, i], 2),\n",
    "                       ha=\"center\", va=\"center\", color=\"cyan\")\n",
    "plt.show();"
   ]
  },
  {
   "cell_type": "code",
   "execution_count": 14,
   "metadata": {
    "ExecuteTime": {
     "end_time": "2019-04-20T08:50:46.600425Z",
     "start_time": "2019-04-20T08:50:46.247312Z"
    }
   },
   "outputs": [
    {
     "data": {
      "text/plain": [
       "tensor([1.6040e-02, 4.8508e-02, 1.2778e-01, 2.2502e-01, 2.5459e-01, 1.9336e-01,\n",
       "        9.6636e-02, 3.1390e-02, 6.0393e-03, 6.0204e-04, 2.0189e-05, 4.2925e-08,\n",
       "        3.8492e-08, 3.4849e-08, 3.2742e-08, 2.9952e-08, 2.5665e-08, 2.1833e-08,\n",
       "        2.0067e-08, 1.6054e-08, 1.3827e-08, 1.1757e-08, 9.5427e-09, 8.2204e-09,\n",
       "        7.1921e-09, 6.4122e-09, 5.5865e-09, 4.2979e-09, 4.0158e-09, 3.1379e-09,\n",
       "        2.8183e-09, 2.6176e-09, 2.0385e-09, 1.7698e-09, 1.4610e-09, 1.1201e-09,\n",
       "        1.0529e-09, 9.0127e-10, 6.0541e-10, 5.5515e-10, 3.9925e-10, 3.5439e-10,\n",
       "        2.5527e-10, 2.3010e-10, 1.4714e-10, 9.0933e-11, 9.3584e-11, 4.3909e-11,\n",
       "        3.0216e-11, 1.2926e-11, 1.4543e-11])"
      ]
     },
     "execution_count": 14,
     "metadata": {},
     "output_type": "execute_result"
    },
    {
     "data": {
      "image/png": "[encoded data removed]",
      "text/plain": [
       "<Figure size 432x288 with 1 Axes>"
      ]
     },
     "metadata": {
      "needs_background": "light"
     },
     "output_type": "display_data"
    }
   ],
   "source": [
    "with torch.no_grad():\n",
    "    dist = F.softmax(agent.critic_local(torch.tensor(states).float().to(device), agent.actor_local(torch.tensor(states).float().to(device))), dim=-1).squeeze(0).cpu()\n",
    "\n",
    "fig, ax = plt.subplots(1, 1)\n",
    "ax.grid()\n",
    "ax.bar(x=agent.supports.cpu().numpy(), height=dist, width=0.3, edgecolor='black')\n",
    "dist"
   ]
  },
  {
   "cell_type": "code",
   "execution_count": 15,
   "metadata": {
    "ExecuteTime": {
     "end_time": "2019-04-20T08:53:36.158846Z",
     "start_time": "2019-04-20T08:50:55.921069Z"
    }
   },
   "outputs": [
    {
     "name": "stdout",
     "output_type": "stream",
     "text": [
      "[Noisy]\n",
      "Current Average Score at timestep 1001: 26.219999413937332\n",
      "Final Average Score: 26.21999941393733\n",
      "\n",
      "\n",
      "\n",
      "[Deterministic]\n",
      "Current Average Score at timestep 1001: 24.269999457523227\n",
      "Final Average Score: 24.269999457523227\n"
     ]
    }
   ],
   "source": [
    "# env = UnityEnvironment(file_name=env_file_path, worker_id=0, seed=0, no_graphics=False)\n",
    "\n",
    "print(\"[Noisy]\")\n",
    "agent.noise(True)\n",
    "env_info = env.reset(train_mode=False)[brain_name]     # reset the environment    \n",
    "states = env_info.vector_observations                  # get the current state (for each agent)\n",
    "scores = np.zeros(num_agents)                          # initialize the score (for each agent)\n",
    "t = 0                                                  # initialize the time step count\n",
    "while True:\n",
    "    actions = agent.act(states)                        # select an action (for each agent)\n",
    "    env_info = env.step(actions)[brain_name]           # send all actions to tne environment\n",
    "    next_states = env_info.vector_observations         # get next state (for each agent)\n",
    "    rewards = env_info.rewards                         # get reward (for each agent)\n",
    "    dones = env_info.local_done                        # see if episode finished\n",
    "    scores += env_info.rewards                         # update the score (for each agent)\n",
    "    states = next_states                               # roll over states to next time step\n",
    "    t += 1\n",
    "    print(\"\\rCurrent Average Score at timestep {}: {}\".format(t, np.mean(scores)), end='')\n",
    "    if np.any(dones):                                  # exit loop if episode finished\n",
    "        break\n",
    "print(\"\\nFinal Average Score: {}\".format(np.mean(scores)))\n",
    "\n",
    "print(\"\\n\\n\")\n",
    "\n",
    "print(\"[Deterministic]\")\n",
    "agent.noise(False)\n",
    "env_info = env.reset(train_mode=False)[brain_name]     # reset the environment    \n",
    "states = env_info.vector_observations                  # get the current state (for each agent)\n",
    "scores = np.zeros(num_agents)                          # initialize the score (for each agent)\n",
    "t = 0                                                  # initialize the time step count\n",
    "while True:\n",
    "    actions = agent.act(states)                        # select an action (for each agent)\n",
    "    env_info = env.step(actions)[brain_name]           # send all actions to tne environment\n",
    "    next_states = env_info.vector_observations         # get next state (for each agent)\n",
    "    rewards = env_info.rewards                         # get reward (for each agent)\n",
    "    dones = env_info.local_done                        # see if episode finished\n",
    "    scores += env_info.rewards                         # update the score (for each agent)\n",
    "    states = next_states                               # roll over states to next time step\n",
    "    t += 1\n",
    "    print(\"\\rCurrent Average Score at timestep {}: {}\".format(t, np.mean(scores)), end='')\n",
    "    if np.any(dones):                                  # exit loop if episode finished\n",
    "        break\n",
    "print(\"\\nFinal Average Score: {}\".format(np.mean(scores)))\n",
    "agent.noise(True)"
   ]
  },
  {
   "cell_type": "code",
   "execution_count": null,
   "metadata": {},
   "outputs": [],
   "source": [
    "env.close()"
   ]
  }
 ],
 "metadata": {
  "kernelspec": {
   "display_name": "Python 3",
   "language": "python",
   "name": "python3"
  },
  "language_info": {
   "codemirror_mode": {
    "name": "ipython",
    "version": 3
   },
   "file_extension": ".py",
   "mimetype": "text/x-python",
   "name": "python",
   "nbconvert_exporter": "python",
   "pygments_lexer": "ipython3",
   "version": "3.6.8"
  },
  "toc": {
   "base_numbering": 1,
   "nav_menu": {},
   "number_sections": true,
   "sideBar": true,
   "skip_h1_title": false,
   "title_cell": "Table of Contents",
   "title_sidebar": "Contents",
   "toc_cell": false,
   "toc_position": {},
   "toc_section_display": true,
   "toc_window_display": false
  }
 },
 "nbformat": 4,
 "nbformat_minor": 2
}
