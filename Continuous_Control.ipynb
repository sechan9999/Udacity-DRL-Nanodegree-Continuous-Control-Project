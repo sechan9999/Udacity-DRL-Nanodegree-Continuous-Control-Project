{
 "cells": [
  {
   "cell_type": "markdown",
   "metadata": {},
   "source": [
    "# Continuous Control\n",
    "\n",
    "---\n",
    "\n",
    "Train an agent to reach its robot arm to the target!\n",
    "\n",
    "<table>\n",
    "  <tr>\n",
    "      <td>Single Agent</td>\n",
    "      <td>20 Agents</td>\n",
    "  </tr>\n",
    "  <tr>\n",
    "    <td><img src=\"files/images/one_agent.gif\" align=\"center\"></td>\n",
    "    <td><img src=\"files/images/twenty_agents.gif\" align=\"center\"></td>\n",
    "  </tr>\n",
    "</table>"
   ]
  },
  {
   "cell_type": "markdown",
   "metadata": {},
   "source": [
    "---"
   ]
  },
  {
   "cell_type": "markdown",
   "metadata": {},
   "source": [
    "## Table of Contents\n",
    "---\n",
    "* Table of Contents\n",
    "\n",
    "\n",
    "0. [Import Necessary Modules](#0.-Import-Necessary-Modules)\n",
    "1. [Start and Explore the Environment](#1.-Start-and-Explore-the-Environment)\n",
    "    * 1.1. [Start the Environment](#1.1-Start-the-Environment)\n",
    "    * 1.2. [Examine the State and Action Spaces](#1.2-Examine-the-State-and-Action-Spaces)\n",
    "    * 1.3. [Take Random Actions in the Environment](#1.3-Take-Random-Actions-in-the-Environment)\n",
    "2. [It's Your Turn!](#2.-It's-Your-Turn!)\n",
    "    * 1.1. [Tune Your Hyperparameters!](#2.1-Tune-Your-Hyperparameters!)\n",
    "    * 1.2. [Instantiate Your Agent](#2.2-Instantiate-Your-Agent)\n",
    "    * 1.3. [Train Your Agent](#2.3-Train-Your-Agent)\n",
    "    * 1.4. [Plot the Training Scores](#2.4-Plot-the-Training-Scores)\n",
    "    * 1.5. [Save the Agent](#2.5-Save-the-Agent)\n",
    "3. [Load & Evaluate the Agent](#3.-Load-&-Evaluate-Your/Pretrained-Agent)\n",
    "    * 1.1. [Load the Agent](#3.1-Load-the-Agent)\n",
    "    * 1.2. [Watch the Agent!](#3.2-Watch-the-Agent!)\n",
    "    * 1.3. [More Accurate Evaluation](#3.3-More-Accurate-Evaluation)\n",
    "4. [Finishing Up](#4.-Finishing-Up)\n",
    "\n",
    "\n",
    "* [Thank You!](##-Thank-you!)"
   ]
  },
  {
   "cell_type": "markdown",
   "metadata": {},
   "source": [
    "---"
   ]
  },
  {
   "cell_type": "markdown",
   "metadata": {},
   "source": [
    "## [0.](#Table-of-Contents) Import Necessary Modules\n",
    "---\n",
    "Just run the next cell to prepare all the modules needed."
   ]
  },
  {
   "cell_type": "code",
   "execution_count": 10,
   "metadata": {
    "ExecuteTime": {
     "end_time": "2019-04-27T02:55:33.983956Z",
     "start_time": "2019-04-27T02:55:33.972957Z"
    }
   },
   "outputs": [],
   "source": [
    "# DO NOT CHANGE THE CODE HERE\n",
    "import random\n",
    "from collections import deque\n",
    "\n",
    "import numpy as np\n",
    "import matplotlib.pyplot as plt\n",
    "%matplotlib inline\n",
    "import torch\n",
    "\n",
    "from ddpg_agent import Agent\n",
    "from train import ddpg\n",
    "\n",
    "from unityagents import UnityEnvironment\n",
    "\n",
    "device = torch.device('cuda:0' if torch.cuda.is_available() else 'cpu')"
   ]
  },
  {
   "cell_type": "markdown",
   "metadata": {},
   "source": [
    "---"
   ]
  },
  {
   "cell_type": "markdown",
   "metadata": {},
   "source": [
    "## [1.](#Table-of-Contents) Start and Explore the Environment\n",
    "---\n",
    "In this section, you will load the environment and explore it with random actions. Exploration is optional, but loading the environment is necessary."
   ]
  },
  {
   "cell_type": "markdown",
   "metadata": {},
   "source": [
    "### [1.1.](#Table-of-Contents) Start the Environment\n",
    "---\n",
    "Here, we will start the environment!  **_Before running the code cell below_**, change the `file_name` parameter to match the location of the Unity environment that you downloaded.\n",
    "\n",
    "- **Mac**: `\"path/to/Reacher.app\"`\n",
    "- **Windows** (x86): `\"path/to/Reacher_Windows_x86/Reacher.exe\"`\n",
    "- **Windows** (x86_64): `\"path/to/Reacher_Windows_x86_64/Reacher.exe\"`\n",
    "- **Linux** (x86): `\"path/to/Reacher_Linux/Reacher.x86\"`\n",
    "- **Linux** (x86_64): `\"path/to/Reacher_Linux/Reacher.x86_64\"`\n",
    "\n",
    "For instance, if you are using a Mac, then you downloaded `Reacher.app`.  If this file is in the same folder as the notebook, then the line below should appear as follows:\n",
    "```\n",
    "env = UnityEnvironment(file_name=\"Reacher.app\")\n",
    "```"
   ]
  },
  {
   "cell_type": "code",
   "execution_count": 2,
   "metadata": {
    "ExecuteTime": {
     "end_time": "2019-04-26T23:24:04.189273Z",
     "start_time": "2019-04-26T23:24:00.491679Z"
    }
   },
   "outputs": [
    {
     "name": "stderr",
     "output_type": "stream",
     "text": [
      "INFO:unityagents:\n",
      "'Academy' started successfully!\n",
      "Unity Academy name: Academy\n",
      "        Number of Brains: 1\n",
      "        Number of External Brains : 1\n",
      "        Lesson number : 0\n",
      "        Reset Parameters :\n",
      "\t\tgoal_speed -> 1.0\n",
      "\t\tgoal_size -> 5.0\n",
      "Unity brain name: ReacherBrain\n",
      "        Number of Visual Observations (per agent): 0\n",
      "        Vector Observation space type: continuous\n",
      "        Vector Observation space size (per agent): 33\n",
      "        Number of stacked Vector Observation: 1\n",
      "        Vector Action space type: continuous\n",
      "        Vector Action space size (per agent): 4\n",
      "        Vector Action descriptions: , , , \n"
     ]
    }
   ],
   "source": [
    "env = UnityEnvironment(\n",
    "    file_name=\"Reacher_Environment/twenty_agents/Reacher_Windows_x86_64/Reacher.exe\",    # <--- File Path to the Environment file\n",
    "    seed=4\n",
    ")\n",
    "\n",
    "# DO NOT EDIT THE LINES BELOW\n",
    "brain_name = env.brain_names[0]\n",
    "env_info = env.reset(train_mode=False)[brain_name]\n",
    "num_agents = len(env_info.agents)\n",
    "action_size = env.brains[brain_name].vector_action_space_size\n",
    "state_size = env_info.vector_observations.shape[1]"
   ]
  },
  {
   "cell_type": "markdown",
   "metadata": {},
   "source": [
    "### [1.2.](#Table-of-Contents) Examine the State and Action Spaces\n",
    "---\n",
    "In this environment, a double-jointed arm can move to target locations. A reward of `+0.1` is provided for each step that the agent's hand is in the goal location. Thus, the goal of the agent is to maintain its position at the target location for as many time steps as possible.\n",
    "\n",
    "The observation space consists of `33` variables corresponding to position, rotation, velocity, and angular velocities of the arm.  Each action is a vector with four numbers, corresponding to torque applicable to two joints.  Every entry in the action vector must be a number between `-1` and `1`.\n",
    "\n",
    "Run the code cell below to print some information about the environment."
   ]
  },
  {
   "cell_type": "code",
   "execution_count": 3,
   "metadata": {
    "ExecuteTime": {
     "end_time": "2019-04-26T23:24:04.198249Z",
     "start_time": "2019-04-26T23:24:04.191268Z"
    }
   },
   "outputs": [
    {
     "name": "stdout",
     "output_type": "stream",
     "text": [
      "Number of agents: 20\n",
      "\n",
      "Size of each action: 4\n",
      "\n",
      "There are 20 agents. Each observes a state with length: 33\n",
      "The state for the first agent looks like:\n",
      " [ 0.00000000e+00 -4.00000000e+00  0.00000000e+00  1.00000000e+00\n",
      " -0.00000000e+00 -0.00000000e+00 -4.37113883e-08  0.00000000e+00\n",
      "  0.00000000e+00  0.00000000e+00  0.00000000e+00  0.00000000e+00\n",
      "  0.00000000e+00  0.00000000e+00 -1.00000000e+01  0.00000000e+00\n",
      "  1.00000000e+00 -0.00000000e+00 -0.00000000e+00 -4.37113883e-08\n",
      "  0.00000000e+00  0.00000000e+00  0.00000000e+00  0.00000000e+00\n",
      "  0.00000000e+00  0.00000000e+00  0.00000000e+00 -1.00000000e+00\n",
      " -8.00000000e+00  0.00000000e+00  1.00000000e+00  0.00000000e+00\n",
      " -6.97666168e-01]\n",
      "\n",
      "\n",
      "Shapes:\n",
      "rewards 20\n",
      "vector_observations (20, 33)\n",
      "local_done 20\n"
     ]
    }
   ],
   "source": [
    "# number of agents\n",
    "print('Number of agents:', num_agents, end='\\n\\n')\n",
    "\n",
    "# size of each action\n",
    "print('Size of each action:', action_size, end='\\n\\n')\n",
    "\n",
    "# examine the state space\n",
    "states = env_info.vector_observations\n",
    "print('There are {} agents. Each observes a state with length: {}'.format(states.shape[0], state_size))\n",
    "print('The state for the first agent looks like:\\n', states[0], end='\\n\\n')\n",
    "print('\\nShapes:')\n",
    "print(\"rewards\", len(env_info.rewards))\n",
    "print(\"vector_observations\", env_info.vector_observations.shape)\n",
    "print(\"local_done\", len(env_info.local_done))"
   ]
  },
  {
   "cell_type": "markdown",
   "metadata": {},
   "source": [
    "### [1.3.](#Table-of-Contents) Take Random Actions in the Environment\n",
    "---\n",
    "In the next code cell, you will watch the agent's performance when it selects an action at random with each time step. You should be able to observe the agent on the window as it moves through the environment."
   ]
  },
  {
   "cell_type": "code",
   "execution_count": 4,
   "metadata": {
    "ExecuteTime": {
     "end_time": "2019-04-26T23:25:24.280137Z",
     "start_time": "2019-04-26T23:24:04.200248Z"
    }
   },
   "outputs": [
    {
     "name": "stdout",
     "output_type": "stream",
     "text": [
      "Total score (averaged over agents) this episode: 0.1169999973848462\n"
     ]
    }
   ],
   "source": [
    "env_info = env.reset(train_mode=False)[brain_name]     # reset the environment    \n",
    "states = env_info.vector_observations                  # get the current state (for each agent)\n",
    "scores = np.zeros(num_agents)                          # initialize the score (for each agent)\n",
    "while True:\n",
    "    actions = np.random.randn(num_agents, action_size) # select an action (for each agent)\n",
    "    actions = np.clip(actions, -1, 1)                  # all actions between -1 and 1\n",
    "    env_info = env.step(actions)[brain_name]           # send all actions to tne environment\n",
    "    next_states = env_info.vector_observations         # get next state (for each agent)\n",
    "    rewards = env_info.rewards                         # get reward (for each agent)\n",
    "    dones = env_info.local_done                        # see if episode finished\n",
    "    scores += env_info.rewards                         # update the score (for each agent)\n",
    "    states = next_states                               # roll over states to next time step\n",
    "    if np.any(dones):                                  # exit loop if episode finished\n",
    "        break\n",
    "print('Total score (averaged over agents) this episode: {}'.format(np.mean(scores)))"
   ]
  },
  {
   "cell_type": "markdown",
   "metadata": {},
   "source": [
    "---"
   ]
  },
  {
   "cell_type": "markdown",
   "metadata": {},
   "source": [
    "### [2.](#Table-of-Contents) It's Your Turn!\n",
    "---\n",
    "Here, you can train your own agent to solve the environment!"
   ]
  },
  {
   "cell_type": "markdown",
   "metadata": {},
   "source": [
    "### [2.1.](#Table-of-Contents) Tune Your Hyperparameters!\n",
    "---\n",
    "All necessary hyperparameters and training parameters for the agent are provided below. Try fiddling with the values to get a better performance out of it!"
   ]
  },
  {
   "cell_type": "code",
   "execution_count": 5,
   "metadata": {
    "ExecuteTime": {
     "end_time": "2019-04-26T23:25:24.289084Z",
     "start_time": "2019-04-26T23:25:24.282105Z"
    }
   },
   "outputs": [],
   "source": [
    "hyperparams = {\n",
    "    # Reproducibility\n",
    "    'seed'                : 4,        # random seed for reproducible results\n",
    "    \n",
    "    # Agent basic parameters\n",
    "    'batch_size'          : 256,      # batch size for each learning step\n",
    "    'buffer_size'         : int(1e6), # up to how many recent experiences to keep\n",
    "    'start_since'         : 256,      # how many experiences to collect before starting learning\n",
    "    'gamma'               : 0.99,     # discount factor\n",
    "    'update_every'        : 1,        # update step frequency\n",
    "    'n_updates'           : 10,       # number of updates per update step\n",
    "    'tau'                 : 1e-3,     # soft-update parameter [0, 1]\n",
    "    \n",
    "    'actor_lr'            : 5e-4,     # learning rate for the actor network\n",
    "    'critic_lr'           : 5e-4,     # learning rate for the critic network\n",
    "    'clip'                : 1,        # gradient clipping to prevent gradient spikes\n",
    "    'weight_decay'        : 0,        # weight decay for the *critic* network\n",
    "\n",
    "    'distributional'      : True,     # whether to use distributional learning\n",
    "\n",
    "    # Prioritized Experience Replay Parameters\n",
    "    'priority_eps'        : 1e-3,     # base priority in order to ensure nonzero priorities\n",
    "    'a'                   : 1.,       # priority exponent parameter [0, 1]\n",
    "\n",
    "    # n-step Bootstrap Target parameter\n",
    "    'n_multisteps'        : 4,        # number of steps to bootstrap\n",
    "    'separate_experiences': False,    # whether to store experiences with no overlap\n",
    "\n",
    "    # Distributional Learning parameters\n",
    "    'v_min'               : 0,        # minimum value for support\n",
    "    'v_max'               : 10,       # maximum value for support\n",
    "    'n_atoms'             : 51,       # number of atoms for distribution\n",
    "\n",
    "    # Noisy Layer parameters\n",
    "    'initial_sigma'       : 0.050,    # initial noisy parameter value\n",
    "    'linear_type'         : 'noisy',  # either 'linear' or 'noisy'\n",
    "    'factorized'          : False     # whether to use factorized gaussian noise or not(independent gaussian noise)\n",
    "}\n",
    "\n",
    "### -------------------------------------------------------------------------------------------------------------- ###\n",
    "\n",
    "train_params = {\n",
    "    'n_episodes'           : 30,    # number of total episodes to train\n",
    "    'continue_after_solved': False, # whether to keep training even after the environment is solved\n",
    "    \n",
    "    # Exploration using gaussian noise\n",
    "    'eps_start'            : 0.0,   # initial epsilon value\n",
    "    'eps_min'              : 0.0,   # minimum value for epsilon\n",
    "    'eps_decay'            : 0.0,   # epsilon decay rate\n",
    "\n",
    "    # Importance-Sampling Weight parameter for Prioritized Experience Replay\n",
    "    'beta_start'           : 1.,    # starting value \n",
    "    'beta_end'             : 1.     # end value\n",
    "}"
   ]
  },
  {
   "cell_type": "markdown",
   "metadata": {},
   "source": [
    "### [2.2.](#Table-of-Contents) Instantiate Your Agent\n",
    "---\n",
    "After tuning your hyperparameters, the agent instance must be created.\n",
    "\n",
    "To do so, simply run the cell below!"
   ]
  },
  {
   "cell_type": "code",
   "execution_count": 6,
   "metadata": {
    "ExecuteTime": {
     "end_time": "2019-04-26T23:25:26.797298Z",
     "start_time": "2019-04-26T23:25:24.290567Z"
    }
   },
   "outputs": [],
   "source": [
    "agent = Agent(state_size, action_size, num_agents, **hyperparams)"
   ]
  },
  {
   "cell_type": "markdown",
   "metadata": {},
   "source": [
    "### [2.3.](#Table-of-Contents) Train Your Agent\n",
    "---\n",
    "With your agent and your training settings, the next cell will run the training session for your agent!\n",
    "\n",
    "(This may take a long time! It can take hours to train a good agent, depending on your PC performance.)"
   ]
  },
  {
   "cell_type": "code",
   "execution_count": 7,
   "metadata": {
    "ExecuteTime": {
     "end_time": "2019-04-27T02:54:47.924350Z",
     "start_time": "2019-04-26T23:25:26.798297Z"
    },
    "code_folding": [],
    "scrolled": true
   },
   "outputs": [
    {
     "name": "stdout",
     "output_type": "stream",
     "text": [
      "\r",
      "Episode 0 | Total Steps (all agents): 0 | Current Average Score:  0.000 | Last 100 Average Score:  0.000 | Epsilon: 0.0000 | A: 1.0000 | Beta: 1.0000 *** timestep 1 ***\r",
      "Episode 0 | Total Steps (all agents): 0 | Current Average Score:  0.000 | Last 100 Average Score:  0.000 | Epsilon: 0.0000 | A: 1.0000 | Beta: 1.0000 *** timestep 2 ***\r",
      "Episode 0 | Total Steps (all agents): 0 | Current Average Score:  0.000 | Last 100 Average Score:  0.000 | Epsilon: 0.0000 | A: 1.0000 | Beta: 1.0000 *** timestep 3 ***\r",
      "Episode 0 | Total Steps (all agents): 0 | Current Average Score:  0.000 | Last 100 Average Score:  0.000 | Epsilon: 0.0000 | A: 1.0000 | Beta: 1.0000 *** timestep 4 ***\r",
      "Episode 0 | Total Steps (all agents): 0 | Current Average Score:  0.000 | Last 100 Average Score:  0.000 | Epsilon: 0.0000 | A: 1.0000 | Beta: 1.0000 *** timestep 5 ***\r",
      "Episode 0 | Total Steps (all agents): 0 | Current Average Score:  0.000 | Last 100 Average Score:  0.000 | Epsilon: 0.0000 | A: 1.0000 | Beta: 1.0000 *** timestep 6 ***\r",
      "Episode 0 | Total Steps (all agents): 0 | Current Average Score:  0.000 | Last 100 Average Score:  0.000 | Epsilon: 0.0000 | A: 1.0000 | Beta: 1.0000 *** timestep 7 ***\r",
      "Episode 0 | Total Steps (all agents): 0 | Current Average Score:  0.000 | Last 100 Average Score:  0.000 | Epsilon: 0.0000 | A: 1.0000 | Beta: 1.0000 *** timestep 8 ***\r",
      "Episode 0 | Total Steps (all agents): 0 | Current Average Score:  0.000 | Last 100 Average Score:  0.000 | Epsilon: 0.0000 | A: 1.0000 | Beta: 1.0000 *** timestep 9 ***\r",
      "Episode 0 | Total Steps (all agents): 0 | Current Average Score:  0.000 | Last 100 Average Score:  0.000 | Epsilon: 0.0000 | A: 1.0000 | Beta: 1.0000 *** timestep 10 ***\r",
      "Episode 0 | Total Steps (all agents): 0 | Current Average Score:  0.000 | Last 100 Average Score:  0.000 | Epsilon: 0.0000 | A: 1.0000 | Beta: 1.0000 *** timestep 11 ***\r",
      "Episode 0 | Total Steps (all agents): 0 | Current Average Score:  0.000 | Last 100 Average Score:  0.000 | Epsilon: 0.0000 | A: 1.0000 | Beta: 1.0000 *** timestep 12 ***\r",
      "Episode 0 | Total Steps (all agents): 0 | Current Average Score:  0.000 | Last 100 Average Score:  0.000 | Epsilon: 0.0000 | A: 1.0000 | Beta: 1.0000 *** timestep 13 ***\r",
      "Episode 0 | Total Steps (all agents): 0 | Current Average Score:  0.000 | Last 100 Average Score:  0.000 | Epsilon: 0.0000 | A: 1.0000 | Beta: 1.0000 *** timestep 14 ***\r",
      "Episode 0 | Total Steps (all agents): 0 | Current Average Score:  0.000 | Last 100 Average Score:  0.000 | Epsilon: 0.0000 | A: 1.0000 | Beta: 1.0000 *** timestep 15 ***"
     ]
    },
    {
     "name": "stderr",
     "output_type": "stream",
     "text": [
      "c:\\users\\0107w\\anaconda3\\envs\\drlnd\\lib\\site-packages\\torch\\nn\\_reduction.py:49: UserWarning: size_average and reduce args will be deprecated, please use reduction='none' instead.\n",
      "  warnings.warn(warning.format(ret))\n"
     ]
    },
    {
     "name": "stdout",
     "output_type": "stream",
     "text": [
      "Episode 10 | Total Steps (all agents): 200200 | Current Average Score: 10.267 | Last 100 Average Score:  4.719 | Epsilon: 0.0000 | A: 1.0000 | Beta: 1.0000 | Avg Actor Noise Magnitude: 0.0258 +- 0.0246*** timestep 1001 ***               \n",
      "Episode 20 | Total Steps (all agents): 400400 | Current Average Score: 23.602 | Last 100 Average Score: 12.270 | Epsilon: 0.0000 | A: 1.0000 | Beta: 1.0000 | Avg Actor Noise Magnitude: 0.0246 +- 0.0238 *** timestep 1001 ***               \n",
      "Episode 30 | Total Steps (all agents): 600600 | Current Average Score: 32.090 | Last 100 Average Score: 17.693 | Epsilon: 0.0000 | A: 1.0000 | Beta: 1.0000 | Avg Actor Noise Magnitude: 0.0242 +- 0.0237 *** timestep 1001 ***               \n"
     ]
    }
   ],
   "source": [
    "scores = ddpg(env, agent, **train_params)"
   ]
  },
  {
   "cell_type": "markdown",
   "metadata": {},
   "source": [
    "### [2.4.](#Table-of-Contents) Plot the Training Scores\n",
    "---\n",
    "The code cell below will plot the scores your agent received during its training.\n",
    "\n",
    "This allows you to see your agent's learning performance at a glance!"
   ]
  },
  {
   "cell_type": "code",
   "execution_count": 13,
   "metadata": {
    "ExecuteTime": {
     "end_time": "2019-04-27T02:56:13.088372Z",
     "start_time": "2019-04-27T02:56:12.905164Z"
    }
   },
   "outputs": [
    {
     "data": {
      "image/png": "[encoded data removed]",
      "text/plain": [
       "<Figure size 720x288 with 1 Axes>"
      ]
     },
     "metadata": {},
     "output_type": "display_data"
    }
   ],
   "source": [
    "fig = plt.figure(figsize=(10, 4), facecolor='lightsteelblue')\n",
    "ax = fig.add_subplot(111)\n",
    "ax.grid(True)\n",
    "ax.set_facecolor('slategray')\n",
    "ax.plot(np.arange(len(scores)), scores,\n",
    "        alpha=0.7, linewidth=2, color=\"blue\", label=\"Raw Train Score\")\n",
    "ax.plot(np.arange(len(scores)), np.array([np.mean(scores[max(0,i-100):i]) for i in range(1, len(scores)+1)]),\n",
    "        alpha=0.7, linewidth=2, color=\"orange\", label=\"Mean Score over up to 100 Episodes\")\n",
    "ax.legend()\n",
    "xlim = ax.get_xlim()\n",
    "ax.plot(xlim, (30, 30), color=\"black\")\n",
    "ax.set_xlim(*xlim)\n",
    "ax.set_ylabel('Average Score')\n",
    "ax.set_xlabel('Episode #');"
   ]
  },
  {
   "cell_type": "markdown",
   "metadata": {},
   "source": [
    "### [2.5.](#Table-of-Contents) Save the Agent\n",
    "---\n",
    "If you are satisfied with your agent, you would want to save the agent, scores, and your hyperparameter settings so that it won't be lost.\n",
    "\n",
    "**_Before running the cell below_**, change the file name parameter `f` to the file name you want."
   ]
  },
  {
   "cell_type": "code",
   "execution_count": 14,
   "metadata": {
    "ExecuteTime": {
     "end_time": "2019-04-27T03:00:01.239389Z",
     "start_time": "2019-04-27T03:00:00.922235Z"
    }
   },
   "outputs": [],
   "source": [
    "torch.save(\n",
    "\n",
    "    f='my_agent.pth',    # <--- Name of the save\n",
    "\n",
    "    obj={'hyperparams': hyperparams, 'train_params': train_params,\n",
    "         'train_scores': scores,\n",
    "         'actor_dict': agent.actor_local.state_dict(),\n",
    "         'critic_dict': agent.critic_local.state_dict()}\n",
    ")"
   ]
  },
  {
   "cell_type": "markdown",
   "metadata": {},
   "source": [
    "---"
   ]
  },
  {
   "cell_type": "markdown",
   "metadata": {},
   "source": [
    "## [3.](#Table-of-Contents) Load & Evaluate Your/Pretrained Agent\n",
    "---\n",
    "Once the training is done and you want to test your agent, or if you want to see how well my agent performs, you can load the model and run it in this section."
   ]
  },
  {
   "cell_type": "markdown",
   "metadata": {},
   "source": [
    "### [3.1.](#Table-of-Contents) Load the Agent\n",
    "---\n",
    "First, you need to load the agent you wish to run, unless the agent is already up and running.\n",
    "\n",
    "**_Before running the next cell_**, change the file name parameter `f` in `torch.load()` to the name of the saved file you want to load."
   ]
  },
  {
   "cell_type": "code",
   "execution_count": 23,
   "metadata": {
    "ExecuteTime": {
     "end_time": "2019-04-27T03:22:36.532444Z",
     "start_time": "2019-04-27T03:22:36.153445Z"
    }
   },
   "outputs": [],
   "source": [
    "saved = torch.load(\n",
    "\n",
    "            f=\"pretrained.pth\",    # <--- Name of the file to be loaded\n",
    "\n",
    "            map_location=device\n",
    "\n",
    "        )\n",
    "\n",
    "agent = Agent(state_size, action_size, num_agents, **saved['hyperparams'])\n",
    "agent.actor_local.load_state_dict(saved['actor_dict'])\n",
    "agent.critic_local.load_state_dict(saved['critic_dict'])"
   ]
  },
  {
   "cell_type": "markdown",
   "metadata": {},
   "source": [
    "### [3.2.](#Table-of-Contents) Watch the Agent!\n",
    "---\n",
    "Watch the trained agent performing the task!"
   ]
  },
  {
   "cell_type": "code",
   "execution_count": 24,
   "metadata": {
    "ExecuteTime": {
     "end_time": "2019-04-27T03:23:57.507344Z",
     "start_time": "2019-04-27T03:22:38.093053Z"
    }
   },
   "outputs": [
    {
     "name": "stdout",
     "output_type": "stream",
     "text": [
      "Current Average Score at timestep 1001: 39.3529991203919165\n",
      "Final Average Score: 39.35299912039191\n"
     ]
    }
   ],
   "source": [
    "env_info = env.reset(train_mode=False)[brain_name]     # reset the environment    \n",
    "states = env_info.vector_observations                  # get the current state (for each agent)\n",
    "scores = np.zeros(num_agents)                          # initialize the score (for each agent)\n",
    "t = 0                                                  # initialize the time step count\n",
    "while True:\n",
    "    actions = agent.act(states)                        # select an action (for each agent)\n",
    "    env_info = env.step(actions)[brain_name]           # send all actions to tne environment\n",
    "    next_states = env_info.vector_observations         # get next state (for each agent)\n",
    "    rewards = env_info.rewards                         # get reward (for each agent)\n",
    "    dones = env_info.local_done                        # see if episode finished\n",
    "    scores += env_info.rewards                         # update the score (for each agent)\n",
    "    states = next_states                               # roll over states to next time step\n",
    "    t += 1\n",
    "    print(\"\\rCurrent Average Score at timestep {}: {}\".format(t, np.mean(scores)), end='')\n",
    "    if np.any(dones):                                  # exit loop if episode finished\n",
    "        break\n",
    "print(\"\\nFinal Average Score: {}\".format(np.mean(scores)))"
   ]
  },
  {
   "cell_type": "markdown",
   "metadata": {},
   "source": [
    "### [3.3.](#Table-of-Contents) More Accurate Evaluation\n",
    "---\n",
    "To get a better prediction for the agent's performance, you can run multiple episodes and get the average score.\n",
    "\n",
    "Set `n_episodes` in the code cell below to the number of episodes you want to test for, and run the code!"
   ]
  },
  {
   "cell_type": "code",
   "execution_count": 25,
   "metadata": {
    "ExecuteTime": {
     "end_time": "2019-04-27T03:35:17.973978Z",
     "start_time": "2019-04-27T03:23:57.509284Z"
    }
   },
   "outputs": [
    {
     "name": "stdout",
     "output_type": "stream",
     "text": [
      "Episode 10 | Current Episode Average Score: 39.295 | Previous Episode Average Score: 39.355 | Overall Average Score: 39.171\n",
      "Episode 20 | Current Episode Average Score: 39.431 | Previous Episode Average Score: 39.345 | Overall Average Score: 39.266\n",
      "Episode 30 | Current Episode Average Score: 39.275 | Previous Episode Average Score: 39.299 | Overall Average Score: 39.271\n",
      "Episode 40 | Current Episode Average Score: 39.409 | Previous Episode Average Score: 39.405 | Overall Average Score: 39.283\n",
      "Episode 50 | Current Episode Average Score: 39.420 | Previous Episode Average Score: 39.517 | Overall Average Score: 39.292\n",
      "Episode 60 | Current Episode Average Score: 39.192 | Previous Episode Average Score: 38.429 | Overall Average Score: 39.282\n",
      "Episode 70 | Current Episode Average Score: 39.128 | Previous Episode Average Score: 38.979 | Overall Average Score: 39.268\n",
      "Episode 80 | Current Episode Average Score: 39.303 | Previous Episode Average Score: 38.935 | Overall Average Score: 39.257\n",
      "Episode 90 | Current Episode Average Score: 39.504 | Previous Episode Average Score: 39.085 | Overall Average Score: 39.258\n",
      "Episode 100 | Current Episode Average Score: 39.434 | Previous Episode Average Score: 39.362 | Overall Average Score: 39.263\n",
      "\n",
      "Final Average Score: 39.265139122355734\n"
     ]
    }
   ],
   "source": [
    "n_episodes = 100    # <--- Number of Episodes to test the agent for\n",
    "\n",
    "\n",
    "\n",
    "score_avgs = []\n",
    "report_str_format = \"\\rEpisode {} | Current Episode Average Score: {:.3f} | Previous Episode Average Score: {:.3f} | Overall Average Score: {:.3f}\"\n",
    "for i in range(n_episodes):\n",
    "    env_info = env.reset(train_mode=True)[brain_name]      # reset the environment    \n",
    "    states = env_info.vector_observations                  # get the current state (for each agent)\n",
    "    scores = np.zeros(num_agents)                          # initialize the score (for each agent)\n",
    "    while True:\n",
    "        actions = agent.act(states)                        # select an action (for each agent)\n",
    "        env_info = env.step(actions)[brain_name]           # send all actions to tne environment\n",
    "        next_states = env_info.vector_observations         # get next state (for each agent)\n",
    "        rewards = env_info.rewards                         # get reward (for each agent)\n",
    "        dones = env_info.local_done                        # see if episode finished\n",
    "        scores += env_info.rewards                         # update the score (for each agent)\n",
    "        states = next_states                               # roll over states to next time step\n",
    "        print(report_str_format.format(i+1, np.mean(scores), score_avgs[-1] if score_avgs else 0, np.mean(score_avgs) if score_avgs else 0), end='')\n",
    "        if np.any(dones):                                  # exit loop if episode finished\n",
    "            break\n",
    "    if (i+1) % 10 == 0:\n",
    "        print()\n",
    "    score_avgs.append(np.mean(scores))\n",
    "print(\"\\nFinal Average Score: {}\".format(np.mean(score_avgs)))"
   ]
  },
  {
   "cell_type": "markdown",
   "metadata": {},
   "source": [
    "---"
   ]
  },
  {
   "cell_type": "markdown",
   "metadata": {},
   "source": [
    "## [4.](#Table-of-Contents) Finishing Up\n",
    "---\n",
    "When you are done, run the cell below to close the environment."
   ]
  },
  {
   "cell_type": "code",
   "execution_count": 26,
   "metadata": {
    "ExecuteTime": {
     "end_time": "2019-04-27T03:35:17.981939Z",
     "start_time": "2019-04-27T03:35:17.975987Z"
    }
   },
   "outputs": [],
   "source": [
    "env.close()"
   ]
  },
  {
   "cell_type": "markdown",
   "metadata": {},
   "source": [
    "---"
   ]
  },
  {
   "cell_type": "markdown",
   "metadata": {},
   "source": [
    "# [#](#Table-of-Contents) Thank you!\n",
    "I hope you found something interesting in here. Happy Learning!"
   ]
  }
 ],
 "metadata": {
  "kernelspec": {
   "display_name": "Python 3",
   "language": "python",
   "name": "python3"
  },
  "language_info": {
   "codemirror_mode": {
    "name": "ipython",
    "version": 3
   },
   "file_extension": ".py",
   "mimetype": "text/x-python",
   "name": "python",
   "nbconvert_exporter": "python",
   "pygments_lexer": "ipython3",
   "version": "3.6.8"
  },
  "toc": {
   "base_numbering": 1,
   "nav_menu": {},
   "number_sections": true,
   "sideBar": true,
   "skip_h1_title": false,
   "title_cell": "Table of Contents",
   "title_sidebar": "Contents",
   "toc_cell": false,
   "toc_position": {},
   "toc_section_display": true,
   "toc_window_display": false
  }
 },
 "nbformat": 4,
 "nbformat_minor": 2
}
